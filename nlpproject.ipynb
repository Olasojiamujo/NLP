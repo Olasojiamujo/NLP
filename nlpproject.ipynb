{
 "cells": [
  {
   "cell_type": "code",
   "execution_count": 14,
   "metadata": {},
   "outputs": [],
   "source": [
    "import spacy"
   ]
  },
  {
   "cell_type": "code",
   "execution_count": 15,
   "metadata": {},
   "outputs": [],
   "source": [
    "nlp = spacy.load('en_core_web_sm')"
   ]
  },
  {
   "cell_type": "code",
   "execution_count": 29,
   "metadata": {},
   "outputs": [],
   "source": [
    "myfile = \"pro.txt\""
   ]
  },
  {
   "cell_type": "code",
   "execution_count": 35,
   "metadata": {},
   "outputs": [],
   "source": [
    "myprotext = open(\"pro.txt\", encoding=\"utf8\").read()"
   ]
  },
  {
   "cell_type": "code",
   "execution_count": 31,
   "metadata": {},
   "outputs": [],
   "source": [
    "mypro = nlp(myprotext)"
   ]
  },
  {
   "cell_type": "code",
   "execution_count": 32,
   "metadata": {},
   "outputs": [],
   "source": [
    "def replace_names(token):\n",
    "    if token.ent_type_ == \"PERSON\":\n",
    "        return '[REDACTED BY COVENWORKS]'\n",
    "    return token.string"
   ]
  },
  {
   "cell_type": "code",
   "execution_count": 33,
   "metadata": {},
   "outputs": [],
   "source": [
    "def redact_name(nlp_doc):\n",
    "    for ent in nlp_doc.ents:\n",
    "        ent.merge()\n",
    "    tokens = map(replace_names, nlp_doc)\n",
    "    return ''.join(tokens)"
   ]
  },
  {
   "cell_type": "code",
   "execution_count": 34,
   "metadata": {},
   "outputs": [
    {
     "name": "stderr",
     "output_type": "stream",
     "text": [
      "<ipython-input-33-aa2c5a5d850c>:3: DeprecationWarning: [W013] As of v2.1.0, Span.merge is deprecated. Please use the more efficient and less error-prone Doc.retokenize context manager instead.\n",
      "  ent.merge()\n",
      "<ipython-input-33-aa2c5a5d850c>:3: DeprecationWarning: [W013] As of v2.1.0, Doc.merge is deprecated. Please use the more efficient and less error-prone Doc.retokenize context manager instead.\n",
      "  ent.merge()\n"
     ]
    },
    {
     "data": {
      "text/plain": [
       "'Why Barrack Obama didn’t release footage of the raid that killed [REDACTED BY COVENWORKS]\\n\\n\\nAs he announced the death of Islamic State leader [REDACTED BY COVENWORKS]on Sunday, President [REDACTED BY COVENWORKS]described the event in detail, saying the footage of the operation was similar to “watching a movie” and recounting how the feared terrorist was “whimpering, screaming and crying” as U.S. forces closed in.\\n\\nNow, it turns out the public may get to watch part of this movie themselves. President [REDACTED BY COVENWORKS]said Monday that the White House was considering what evidence of the raid could be released publicly. “We may take certain parts of it and release it,” President [REDACTED BY COVENWORKS]told reporters as he departed from Washington to Chicago.\\n\\nAt a news conference two days later, Gen. [REDACTED BY COVENWORKS], the head of the United States Central Command, displayed aerial footage and images of the raid on an isolated compound that led to [REDACTED BY COVENWORKS]’s death. The images did not clearly show Baghdadi himself at any point, but depicted a gunfight at a walled compound.\\n\\nIt is not yet clear if more footage could ultimately be released. But the move marks another key difference in Trump’s handling of [REDACTED BY COVENWORKS]’s death with President [REDACTED BY COVENWORKS]’s 2011 operation that led to the death of [REDACTED BY COVENWORKS], the founder of extremist group al-Qaeda.\\n\\nIn that case, Barrack Obama refused to release images of [REDACTED BY COVENWORKS]body, citing national security concerns. No video footage of the raid has ever been released by the U.S. government.\\n\\nWhat video footage might exist of [REDACTED BY COVENWORKS]death, if any, is unclear. CBS News reported in 2011 that 25 helmet cams had recorded the entire [REDACTED BY COVENWORKS]raid, including the death of the al-Qaeda leader. But a later report from the New Yorker disputed this, saying that officials had watched real-time footage of the target from an unarmed RQ-170 drone.\\n\\nMore unambiguous, though no less contentious, were the photos of [REDACTED BY COVENWORKS]’s body. On May 4, two days after the raid that killed the extremist leader, Obama announced that although the United States was in possession of photos of [REDACTED BY COVENWORKS]’s body, it would not release them, as they could pose a “national security risk.”\\n\\n\\n'"
      ]
     },
     "execution_count": 34,
     "metadata": {},
     "output_type": "execute_result"
    }
   ],
   "source": [
    "redact_name(mypro)"
   ]
  },
  {
   "cell_type": "code",
   "execution_count": null,
   "metadata": {},
   "outputs": [],
   "source": []
  }
 ],
 "metadata": {
  "kernelspec": {
   "display_name": "Python 3",
   "language": "python",
   "name": "python3"
  },
  "language_info": {
   "codemirror_mode": {
    "name": "ipython",
    "version": 3
   },
   "file_extension": ".py",
   "mimetype": "text/x-python",
   "name": "python",
   "nbconvert_exporter": "python",
   "pygments_lexer": "ipython3",
   "version": "3.8.5"
  }
 },
 "nbformat": 4,
 "nbformat_minor": 4
}
